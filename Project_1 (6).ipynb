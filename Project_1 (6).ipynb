{
  "nbformat": 4,
  "nbformat_minor": 0,
  "metadata": {
    "kernelspec": {
      "display_name": "Python 3",
      "language": "python",
      "name": "python3"
    },
    "language_info": {
      "codemirror_mode": {
        "name": "ipython",
        "version": 3
      },
      "file_extension": ".py",
      "mimetype": "text/x-python",
      "name": "python",
      "nbconvert_exporter": "python",
      "pygments_lexer": "ipython3",
      "version": "3.7.4"
    },
    "colab": {
      "name": "Project_1.ipynb",
      "provenance": [],
      "collapsed_sections": []
    },
    "accelerator": "GPU"
  },
  "cells": [
    {
      "cell_type": "markdown",
      "metadata": {
        "id": "yYlo7mIXyZFe"
      },
      "source": [
        "# Project 1 [14 Marks] \n",
        "Let's apply the tools we have learned in the tutorial to a new dataset.\n",
        "\n",
        "We're going to work with a breast cancer dataset. Download it using the cell below:"
      ]
    },
    {
      "cell_type": "code",
      "metadata": {
        "id": "YFo8KVcryZFe"
      },
      "source": [
        "from sklearn.datasets import load_breast_cancer\n",
        "dataset = load_breast_cancer()"
      ],
      "execution_count": null,
      "outputs": []
    },
    {
      "cell_type": "code",
      "metadata": {
        "id": "3mT12PmDMADf",
        "outputId": "8cb81551-bd3a-4a00-ed6f-958fb1fa6e75",
        "colab": {
          "base_uri": "https://localhost:8080/",
          "height": 983
        }
      },
      "source": [
        "dataset "
      ],
      "execution_count": null,
      "outputs": [
        {
          "output_type": "execute_result",
          "data": {
            "text/plain": [
              "{'DESCR': '.. _breast_cancer_dataset:\\n\\nBreast cancer wisconsin (diagnostic) dataset\\n--------------------------------------------\\n\\n**Data Set Characteristics:**\\n\\n    :Number of Instances: 569\\n\\n    :Number of Attributes: 30 numeric, predictive attributes and the class\\n\\n    :Attribute Information:\\n        - radius (mean of distances from center to points on the perimeter)\\n        - texture (standard deviation of gray-scale values)\\n        - perimeter\\n        - area\\n        - smoothness (local variation in radius lengths)\\n        - compactness (perimeter^2 / area - 1.0)\\n        - concavity (severity of concave portions of the contour)\\n        - concave points (number of concave portions of the contour)\\n        - symmetry \\n        - fractal dimension (\"coastline approximation\" - 1)\\n\\n        The mean, standard error, and \"worst\" or largest (mean of the three\\n        largest values) of these features were computed for each image,\\n        resulting in 30 features.  For instance, field 3 is Mean Radius, field\\n        13 is Radius SE, field 23 is Worst Radius.\\n\\n        - class:\\n                - WDBC-Malignant\\n                - WDBC-Benign\\n\\n    :Summary Statistics:\\n\\n    ===================================== ====== ======\\n                                           Min    Max\\n    ===================================== ====== ======\\n    radius (mean):                        6.981  28.11\\n    texture (mean):                       9.71   39.28\\n    perimeter (mean):                     43.79  188.5\\n    area (mean):                          143.5  2501.0\\n    smoothness (mean):                    0.053  0.163\\n    compactness (mean):                   0.019  0.345\\n    concavity (mean):                     0.0    0.427\\n    concave points (mean):                0.0    0.201\\n    symmetry (mean):                      0.106  0.304\\n    fractal dimension (mean):             0.05   0.097\\n    radius (standard error):              0.112  2.873\\n    texture (standard error):             0.36   4.885\\n    perimeter (standard error):           0.757  21.98\\n    area (standard error):                6.802  542.2\\n    smoothness (standard error):          0.002  0.031\\n    compactness (standard error):         0.002  0.135\\n    concavity (standard error):           0.0    0.396\\n    concave points (standard error):      0.0    0.053\\n    symmetry (standard error):            0.008  0.079\\n    fractal dimension (standard error):   0.001  0.03\\n    radius (worst):                       7.93   36.04\\n    texture (worst):                      12.02  49.54\\n    perimeter (worst):                    50.41  251.2\\n    area (worst):                         185.2  4254.0\\n    smoothness (worst):                   0.071  0.223\\n    compactness (worst):                  0.027  1.058\\n    concavity (worst):                    0.0    1.252\\n    concave points (worst):               0.0    0.291\\n    symmetry (worst):                     0.156  0.664\\n    fractal dimension (worst):            0.055  0.208\\n    ===================================== ====== ======\\n\\n    :Missing Attribute Values: None\\n\\n    :Class Distribution: 212 - Malignant, 357 - Benign\\n\\n    :Creator:  Dr. William H. Wolberg, W. Nick Street, Olvi L. Mangasarian\\n\\n    :Donor: Nick Street\\n\\n    :Date: November, 1995\\n\\nThis is a copy of UCI ML Breast Cancer Wisconsin (Diagnostic) datasets.\\nhttps://goo.gl/U2Uwz2\\n\\nFeatures are computed from a digitized image of a fine needle\\naspirate (FNA) of a breast mass.  They describe\\ncharacteristics of the cell nuclei present in the image.\\n\\nSeparating plane described above was obtained using\\nMultisurface Method-Tree (MSM-T) [K. P. Bennett, \"Decision Tree\\nConstruction Via Linear Programming.\" Proceedings of the 4th\\nMidwest Artificial Intelligence and Cognitive Science Society,\\npp. 97-101, 1992], a classification method which uses linear\\nprogramming to construct a decision tree.  Relevant features\\nwere selected using an exhaustive search in the space of 1-4\\nfeatures and 1-3 separating planes.\\n\\nThe actual linear program used to obtain the separating plane\\nin the 3-dimensional space is that described in:\\n[K. P. Bennett and O. L. Mangasarian: \"Robust Linear\\nProgramming Discrimination of Two Linearly Inseparable Sets\",\\nOptimization Methods and Software 1, 1992, 23-34].\\n\\nThis database is also available through the UW CS ftp server:\\n\\nftp ftp.cs.wisc.edu\\ncd math-prog/cpo-dataset/machine-learn/WDBC/\\n\\n.. topic:: References\\n\\n   - W.N. Street, W.H. Wolberg and O.L. Mangasarian. Nuclear feature extraction \\n     for breast tumor diagnosis. IS&T/SPIE 1993 International Symposium on \\n     Electronic Imaging: Science and Technology, volume 1905, pages 861-870,\\n     San Jose, CA, 1993.\\n   - O.L. Mangasarian, W.N. Street and W.H. Wolberg. Breast cancer diagnosis and \\n     prognosis via linear programming. Operations Research, 43(4), pages 570-577, \\n     July-August 1995.\\n   - W.H. Wolberg, W.N. Street, and O.L. Mangasarian. Machine learning techniques\\n     to diagnose breast cancer from fine-needle aspirates. Cancer Letters 77 (1994) \\n     163-171.',\n",
              " 'data': array([[1.799e+01, 1.038e+01, 1.228e+02, ..., 2.654e-01, 4.601e-01,\n",
              "         1.189e-01],\n",
              "        [2.057e+01, 1.777e+01, 1.329e+02, ..., 1.860e-01, 2.750e-01,\n",
              "         8.902e-02],\n",
              "        [1.969e+01, 2.125e+01, 1.300e+02, ..., 2.430e-01, 3.613e-01,\n",
              "         8.758e-02],\n",
              "        ...,\n",
              "        [1.660e+01, 2.808e+01, 1.083e+02, ..., 1.418e-01, 2.218e-01,\n",
              "         7.820e-02],\n",
              "        [2.060e+01, 2.933e+01, 1.401e+02, ..., 2.650e-01, 4.087e-01,\n",
              "         1.240e-01],\n",
              "        [7.760e+00, 2.454e+01, 4.792e+01, ..., 0.000e+00, 2.871e-01,\n",
              "         7.039e-02]]),\n",
              " 'feature_names': array(['mean radius', 'mean texture', 'mean perimeter', 'mean area',\n",
              "        'mean smoothness', 'mean compactness', 'mean concavity',\n",
              "        'mean concave points', 'mean symmetry', 'mean fractal dimension',\n",
              "        'radius error', 'texture error', 'perimeter error', 'area error',\n",
              "        'smoothness error', 'compactness error', 'concavity error',\n",
              "        'concave points error', 'symmetry error',\n",
              "        'fractal dimension error', 'worst radius', 'worst texture',\n",
              "        'worst perimeter', 'worst area', 'worst smoothness',\n",
              "        'worst compactness', 'worst concavity', 'worst concave points',\n",
              "        'worst symmetry', 'worst fractal dimension'], dtype='<U23'),\n",
              " 'filename': '/usr/local/lib/python3.6/dist-packages/sklearn/datasets/data/breast_cancer.csv',\n",
              " 'target': array([0, 0, 0, 0, 0, 0, 0, 0, 0, 0, 0, 0, 0, 0, 0, 0, 0, 0, 0, 1, 1, 1,\n",
              "        0, 0, 0, 0, 0, 0, 0, 0, 0, 0, 0, 0, 0, 0, 0, 1, 0, 0, 0, 0, 0, 0,\n",
              "        0, 0, 1, 0, 1, 1, 1, 1, 1, 0, 0, 1, 0, 0, 1, 1, 1, 1, 0, 1, 0, 0,\n",
              "        1, 1, 1, 1, 0, 1, 0, 0, 1, 0, 1, 0, 0, 1, 1, 1, 0, 0, 1, 0, 0, 0,\n",
              "        1, 1, 1, 0, 1, 1, 0, 0, 1, 1, 1, 0, 0, 1, 1, 1, 1, 0, 1, 1, 0, 1,\n",
              "        1, 1, 1, 1, 1, 1, 1, 0, 0, 0, 1, 0, 0, 1, 1, 1, 0, 0, 1, 0, 1, 0,\n",
              "        0, 1, 0, 0, 1, 1, 0, 1, 1, 0, 1, 1, 1, 1, 0, 1, 1, 1, 1, 1, 1, 1,\n",
              "        1, 1, 0, 1, 1, 1, 1, 0, 0, 1, 0, 1, 1, 0, 0, 1, 1, 0, 0, 1, 1, 1,\n",
              "        1, 0, 1, 1, 0, 0, 0, 1, 0, 1, 0, 1, 1, 1, 0, 1, 1, 0, 0, 1, 0, 0,\n",
              "        0, 0, 1, 0, 0, 0, 1, 0, 1, 0, 1, 1, 0, 1, 0, 0, 0, 0, 1, 1, 0, 0,\n",
              "        1, 1, 1, 0, 1, 1, 1, 1, 1, 0, 0, 1, 1, 0, 1, 1, 0, 0, 1, 0, 1, 1,\n",
              "        1, 1, 0, 1, 1, 1, 1, 1, 0, 1, 0, 0, 0, 0, 0, 0, 0, 0, 0, 0, 0, 0,\n",
              "        0, 0, 1, 1, 1, 1, 1, 1, 0, 1, 0, 1, 1, 0, 1, 1, 0, 1, 0, 0, 1, 1,\n",
              "        1, 1, 1, 1, 1, 1, 1, 1, 1, 1, 1, 0, 1, 1, 0, 1, 0, 1, 1, 1, 1, 1,\n",
              "        1, 1, 1, 1, 1, 1, 1, 1, 1, 0, 1, 1, 1, 0, 1, 0, 1, 1, 1, 1, 0, 0,\n",
              "        0, 1, 1, 1, 1, 0, 1, 0, 1, 0, 1, 1, 1, 0, 1, 1, 1, 1, 1, 1, 1, 0,\n",
              "        0, 0, 1, 1, 1, 1, 1, 1, 1, 1, 1, 1, 1, 0, 0, 1, 0, 0, 0, 1, 0, 0,\n",
              "        1, 1, 1, 1, 1, 0, 1, 1, 1, 1, 1, 0, 1, 1, 1, 0, 1, 1, 0, 0, 1, 1,\n",
              "        1, 1, 1, 1, 0, 1, 1, 1, 1, 1, 1, 1, 0, 1, 1, 1, 1, 1, 0, 1, 1, 0,\n",
              "        1, 1, 1, 1, 1, 1, 1, 1, 1, 1, 1, 1, 0, 1, 0, 0, 1, 0, 1, 1, 1, 1,\n",
              "        1, 0, 1, 1, 0, 1, 0, 1, 1, 0, 1, 0, 1, 1, 1, 1, 1, 1, 1, 1, 0, 0,\n",
              "        1, 1, 1, 1, 1, 1, 0, 1, 1, 1, 1, 1, 1, 1, 1, 1, 1, 0, 1, 1, 1, 1,\n",
              "        1, 1, 1, 0, 1, 0, 1, 1, 0, 1, 1, 1, 1, 1, 0, 0, 1, 0, 1, 0, 1, 1,\n",
              "        1, 1, 1, 0, 1, 1, 0, 1, 0, 1, 0, 0, 1, 1, 1, 0, 1, 1, 1, 1, 1, 1,\n",
              "        1, 1, 1, 1, 1, 0, 1, 0, 0, 1, 1, 1, 1, 1, 1, 1, 1, 1, 1, 1, 1, 1,\n",
              "        1, 1, 1, 1, 1, 1, 1, 1, 1, 1, 1, 1, 0, 0, 0, 0, 0, 0, 1]),\n",
              " 'target_names': array(['malignant', 'benign'], dtype='<U9')}"
            ]
          },
          "metadata": {
            "tags": []
          },
          "execution_count": 2
        }
      ]
    },
    {
      "cell_type": "markdown",
      "metadata": {
        "id": "gOGmwyQNyZFh"
      },
      "source": [
        "## Part 1: Getting started [4 Marks]\n",
        "First off, take a look at the `data`, `target` and `feature_names` entries in the `dataset` dictionary. They contain the information we'll be working with here. Then, create a Pandas DataFrame called `df` containing the data and the targets, with the feature names as column headings. If you need help, see [here](https://pandas.pydata.org/pandas-docs/stable/reference/api/pandas.DataFrame.html) for more details on how to achieve this. **[1]**\n",
        "* How many features do we have in this dataset? 30\n",
        "* What are the target classes? 0 and 1\n",
        "* What do these target classes signify? indicates if the breast cancer is Malignant(0) or Benign(1)\n",
        "* How many participants tested `Malignant`? 212\n",
        "* How many participants tested `Benign`? 357"
      ]
    },
    {
      "cell_type": "code",
      "metadata": {
        "id": "at4RW8lvbTRW",
        "outputId": "8968a9b8-f672-4ad5-f921-1f264c7cb567",
        "colab": {
          "base_uri": "https://localhost:8080/",
          "height": 381
        }
      },
      "source": [
        "### YOUR CODE HERE ###\n",
        "import pandas as pd\n",
        "df = pd.DataFrame(dataset.data, columns=dataset.feature_names)\n",
        "df['target'] = dataset.target\n",
        "print(df.head(10))\n",
        "print('# columns including target column',len(df.columns))\n",
        "print(df.groupby(['target']).count())\n",
        "\n"
      ],
      "execution_count": null,
      "outputs": [
        {
          "output_type": "stream",
          "text": [
            "   mean radius  mean texture  ...  worst fractal dimension  target\n",
            "0        17.99         10.38  ...                  0.11890       0\n",
            "1        20.57         17.77  ...                  0.08902       0\n",
            "2        19.69         21.25  ...                  0.08758       0\n",
            "3        11.42         20.38  ...                  0.17300       0\n",
            "4        20.29         14.34  ...                  0.07678       0\n",
            "5        12.45         15.70  ...                  0.12440       0\n",
            "6        18.25         19.98  ...                  0.08368       0\n",
            "7        13.71         20.83  ...                  0.11510       0\n",
            "8        13.00         21.82  ...                  0.10720       0\n",
            "9        12.46         24.04  ...                  0.20750       0\n",
            "\n",
            "[10 rows x 31 columns]\n",
            "# columns including target column 31\n",
            "        mean radius  mean texture  ...  worst symmetry  worst fractal dimension\n",
            "target                             ...                                         \n",
            "0               212           212  ...             212                      212\n",
            "1               357           357  ...             357                      357\n",
            "\n",
            "[2 rows x 30 columns]\n"
          ],
          "name": "stdout"
        }
      ]
    },
    {
      "cell_type": "markdown",
      "metadata": {
        "id": "U_jNtkfce9Eg"
      },
      "source": [
        "Use `seaborn.lmplot` ([help here](https://seaborn.pydata.org/generated/seaborn.lmplot.html)) to visualize a few features of the dataset. Draw a plot where the x-axis is \"mean radius\", the y-axis is \"mean texture,\" and the color of each datapoint indicates its class. Do this once again for different features for the x- and y-axis and see how the data is distributed. **[1]**\n",
        "data for different features are shown below\n",
        "\n",
        "Standardizing the data is often critical in machine learning. Show a plot as above, but with two features with very different scales. Standardize the data and plot those features again. What's different? Why? **[1]** The scales are standardized and easier to comprehend because we have performed data standarzation for the two columns. The distribution of data remain unchanged.\n",
        "\n",
        "It is best practice to have a training set (from which there is a rotating validation subset) and a test set. Our aim here is to (eventually) obtain the best accuracy we can on the test set (we'll do all our tuning on the training/validation sets, however). To tune `k` (our hyperparameter), we employ cross-validation ([Help](https://scikit-learn.org/stable/modules/cross_validation.html)). Cross-validation automatically selects validation subsets from the data that you provided. Split the dataset into a train and a test set **\"70:30\"**, use **``random_state=0``**. The test set is set aside (untouched) for final evaluation, once hyperparameter optimization is complete. **[1]**\n",
        "\n",
        "**"
      ]
    },
    {
      "cell_type": "code",
      "metadata": {
        "id": "A5equ6ied8eg",
        "outputId": "567fa9e6-c205-4374-f923-f54cd6f8ca24",
        "colab": {
          "base_uri": "https://localhost:8080/",
          "height": 757
        }
      },
      "source": [
        "### YOUR CODE HERE ###\n",
        "import seaborn as sns\n",
        "a = sns.lmplot(x=\"mean radius\", y=\"mean texture\", hue='target',data=df,fit_reg=False)\n",
        "b = sns.lmplot(x=\"mean perimeter\", y=\"mean area\", hue='target',data=df,fit_reg=False)"
      ],
      "execution_count": null,
      "outputs": [
        {
          "output_type": "stream",
          "text": [
            "/usr/local/lib/python3.6/dist-packages/statsmodels/tools/_testing.py:19: FutureWarning: pandas.util.testing is deprecated. Use the functions in the public API at pandas.testing instead.\n",
            "  import pandas.util.testing as tm\n"
          ],
          "name": "stderr"
        },
        {
          "output_type": "display_data",
          "data": {
            "image/png": "[encoded data removed]",
            "text/plain": [
              "<Figure size 402.375x360 with 1 Axes>"
            ]
          },
          "metadata": {
            "tags": [],
            "needs_background": "light"
          }
        },
        {
          "output_type": "display_data",
          "data": {
            "image/png": "[encoded data removed]",
            "text/plain": [
              "<Figure size 402.375x360 with 1 Axes>"
            ]
          },
          "metadata": {
            "tags": [],
            "needs_background": "light"
          }
        }
      ]
    },
    {
      "cell_type": "code",
      "metadata": {
        "id": "1n6fMTS1srpU",
        "outputId": "18884f83-c79d-42c1-b94c-5bd85273202d",
        "colab": {
          "base_uri": "https://localhost:8080/",
          "height": 369
        }
      },
      "source": [
        "meanradius_mean= df['mean radius'].mean()\n",
        "meanradius_std= df['mean radius'].std()\n",
        "meantexture_mean=df['mean texture'].mean()\n",
        "meantexture_std=df['mean texture'].std()\n",
        "df['standardized mean radius'] = (df['mean radius'] - meanradius_mean)/meanradius_std\n",
        "df['standardized mean texture'] = (df['mean texture'] - meantexture_mean)/meantexture_std\n",
        "standardized_a = sns.lmplot(x=\"standardized mean radius\", y=\"standardized mean texture\", hue='target',data=df,fit_reg=False)"
      ],
      "execution_count": null,
      "outputs": [
        {
          "output_type": "display_data",
          "data": {
            "image/png": "[encoded data removed]",
            "text/plain": [
              "<Figure size 402.375x360 with 1 Axes>"
            ]
          },
          "metadata": {
            "tags": [],
            "needs_background": "light"
          }
        }
      ]
    },
    {
      "cell_type": "code",
      "metadata": {
        "id": "LvCjsXvcwJan"
      },
      "source": [
        "import numpy as np\n",
        "from sklearn.model_selection import train_test_split\n",
        "from sklearn import preprocessing\n",
        "X = dataset.data\n",
        "y = dataset.target\n",
        "X_train, X_test, y_train, y_test = train_test_split(\n",
        "           X, y, test_size=0.3, random_state=0)\n"
      ],
      "execution_count": null,
      "outputs": []
    },
    {
      "cell_type": "code",
      "metadata": {
        "id": "SgsLFuNlxXEg",
        "outputId": "1e706130-d1ad-40fc-e575-184850009390",
        "colab": {
          "base_uri": "https://localhost:8080/",
          "height": 171
        }
      },
      "source": [
        ""
      ],
      "execution_count": null,
      "outputs": [
        {
          "output_type": "error",
          "ename": "AttributeError",
          "evalue": "ignored",
          "traceback": [
            "\u001b[0;31m---------------------------------------------------------------------------\u001b[0m",
            "\u001b[0;31mAttributeError\u001b[0m                            Traceback (most recent call last)",
            "\u001b[0;32m<ipython-input-5-ae5cd47bda90>\u001b[0m in \u001b[0;36m<module>\u001b[0;34m()\u001b[0m\n\u001b[0;32m----> 1\u001b[0;31m \u001b[0mX\u001b[0m\u001b[0;34m.\u001b[0m\u001b[0mhead\u001b[0m\u001b[0;34m(\u001b[0m\u001b[0;34m)\u001b[0m\u001b[0;34m\u001b[0m\u001b[0;34m\u001b[0m\u001b[0m\n\u001b[0m",
            "\u001b[0;31mAttributeError\u001b[0m: 'numpy.ndarray' object has no attribute 'head'"
          ]
        }
      ]
    },
    {
      "cell_type": "markdown",
      "metadata": {
        "id": "aBmo0-W1yZFs"
      },
      "source": [
        "## Part 2: KNN Classifier without Standardization [3 Marks]\n",
        "Normally, standardizing data is a key step in preparing data for a KNN classifier. However, for educational purposes, let's first try to build a model without standardization. Let's create a KNN classifier to predict whether a patient has a malignant or benign tumor. \n",
        "\n",
        "Follow these steps: \n",
        "\n",
        "1.   Train a KNN Classifier using cross-validation on the dataset. Sweep `k` (number of neighbours) from 1 to 100, and show a plot of the mean cross-validation accuracy vs `k`. **[1]**\n",
        "2.   What is the best `k`? Comment on  which `k`s lead to underfitted or overfitted models. **[1]** \n",
        "      \n",
        "      for k = 10 and 11 the accuracy is at maximum of 93.46%. for K less than 10 is overfitting(high variance & low bias), and larger than 11 is underfitting(low variance & high bias)\n",
        "3.   Can you get the same accuracy (roughly) with fewer features using a KNN model? You're free to use trial-and-error to remove features (try at least 5 combinations), or use a more sophisticated approach like [Backward Elimination](https://towardsdatascience.com/backward-elimination-for-feature-selection-in-machine-learning-c6a3a8f8cef4). \n",
        "Describe your findings using a graph or table (or multiple!). **[1]**\n",
        "\n",
        "After conducting backward elimination by dropping one feature at a time, It is observable that the original one was the best.(with all features). It is notable that validation accuracy didnt not change when dropping 1 until 27 features."
      ]
    },
    {
      "cell_type": "code",
      "metadata": {
        "id": "cyEV-mVSAMaV",
        "outputId": "62372e4b-e58e-4dd7-89ee-b6132cf3edde",
        "colab": {
          "base_uri": "https://localhost:8080/",
          "height": 910
        }
      },
      "source": [
        "### YOUR CODE HERE ###\n",
        "from sklearn import neighbors\n",
        "from sklearn.model_selection import cross_val_score\n",
        "from sklearn.metrics import accuracy_score\n",
        "import matplotlib.pyplot as plt\n",
        "acc =[]\n",
        "#acc1=[]#\n",
        "k = []\n",
        "for i in range(1,101):\n",
        "  knn = neighbors.KNeighborsClassifier(n_neighbors=i)\n",
        "  knn.fit(X_train,y_train)\n",
        "  accuracy = cross_val_score(knn, X_train, y_train, cv=5)\n",
        " # accuracy1 = accuracy_score(y_test, knn.predict(X_test)) #\n",
        "  acc.append(accuracy.mean())\n",
        "  #acc1.append(accuracy1.mean())\n",
        "  k.append(i)\n",
        "plt.xlabel('K number')\n",
        "plt.ylabel('validation accuracy')\n",
        "plt.plot(k,acc)\n",
        "#plt.plot(k,acc1)\n",
        "\n",
        "df2 = pd.DataFrame(list(zip(k, acc)),columns=['K','accuracy'])\n",
        "sorted_df2 = df2.sort_values(\"accuracy\", ascending=False)\n",
        "sorted_df2.head(20)\n"
      ],
      "execution_count": null,
      "outputs": [
        {
          "output_type": "execute_result",
          "data": {
            "text/html": [
              "<div>\n",
              "<style scoped>\n",
              "    .dataframe tbody tr th:only-of-type {\n",
              "        vertical-align: middle;\n",
              "    }\n",
              "\n",
              "    .dataframe tbody tr th {\n",
              "        vertical-align: top;\n",
              "    }\n",
              "\n",
              "    .dataframe thead th {\n",
              "        text-align: right;\n",
              "    }\n",
              "</style>\n",
              "<table border=\"1\" class=\"dataframe\">\n",
              "  <thead>\n",
              "    <tr style=\"text-align: right;\">\n",
              "      <th></th>\n",
              "      <th>K</th>\n",
              "      <th>accuracy</th>\n",
              "    </tr>\n",
              "  </thead>\n",
              "  <tbody>\n",
              "    <tr>\n",
              "      <th>9</th>\n",
              "      <td>10</td>\n",
              "      <td>0.934652</td>\n",
              "    </tr>\n",
              "    <tr>\n",
              "      <th>10</th>\n",
              "      <td>11</td>\n",
              "      <td>0.934652</td>\n",
              "    </tr>\n",
              "    <tr>\n",
              "      <th>6</th>\n",
              "      <td>7</td>\n",
              "      <td>0.932152</td>\n",
              "    </tr>\n",
              "    <tr>\n",
              "      <th>7</th>\n",
              "      <td>8</td>\n",
              "      <td>0.932152</td>\n",
              "    </tr>\n",
              "    <tr>\n",
              "      <th>11</th>\n",
              "      <td>12</td>\n",
              "      <td>0.932120</td>\n",
              "    </tr>\n",
              "    <tr>\n",
              "      <th>13</th>\n",
              "      <td>14</td>\n",
              "      <td>0.929684</td>\n",
              "    </tr>\n",
              "    <tr>\n",
              "      <th>2</th>\n",
              "      <td>3</td>\n",
              "      <td>0.927215</td>\n",
              "    </tr>\n",
              "    <tr>\n",
              "      <th>3</th>\n",
              "      <td>4</td>\n",
              "      <td>0.927120</td>\n",
              "    </tr>\n",
              "    <tr>\n",
              "      <th>5</th>\n",
              "      <td>6</td>\n",
              "      <td>0.924652</td>\n",
              "    </tr>\n",
              "    <tr>\n",
              "      <th>15</th>\n",
              "      <td>16</td>\n",
              "      <td>0.924620</td>\n",
              "    </tr>\n",
              "    <tr>\n",
              "      <th>8</th>\n",
              "      <td>9</td>\n",
              "      <td>0.924620</td>\n",
              "    </tr>\n",
              "    <tr>\n",
              "      <th>12</th>\n",
              "      <td>13</td>\n",
              "      <td>0.922152</td>\n",
              "    </tr>\n",
              "    <tr>\n",
              "      <th>14</th>\n",
              "      <td>15</td>\n",
              "      <td>0.922152</td>\n",
              "    </tr>\n",
              "    <tr>\n",
              "      <th>4</th>\n",
              "      <td>5</td>\n",
              "      <td>0.919620</td>\n",
              "    </tr>\n",
              "    <tr>\n",
              "      <th>17</th>\n",
              "      <td>18</td>\n",
              "      <td>0.919589</td>\n",
              "    </tr>\n",
              "    <tr>\n",
              "      <th>0</th>\n",
              "      <td>1</td>\n",
              "      <td>0.917120</td>\n",
              "    </tr>\n",
              "    <tr>\n",
              "      <th>1</th>\n",
              "      <td>2</td>\n",
              "      <td>0.917089</td>\n",
              "    </tr>\n",
              "    <tr>\n",
              "      <th>19</th>\n",
              "      <td>20</td>\n",
              "      <td>0.914589</td>\n",
              "    </tr>\n",
              "    <tr>\n",
              "      <th>18</th>\n",
              "      <td>19</td>\n",
              "      <td>0.912089</td>\n",
              "    </tr>\n",
              "    <tr>\n",
              "      <th>16</th>\n",
              "      <td>17</td>\n",
              "      <td>0.912057</td>\n",
              "    </tr>\n",
              "  </tbody>\n",
              "</table>\n",
              "</div>"
            ],
            "text/plain": [
              "     K  accuracy\n",
              "9   10  0.934652\n",
              "10  11  0.934652\n",
              "6    7  0.932152\n",
              "7    8  0.932152\n",
              "11  12  0.932120\n",
              "13  14  0.929684\n",
              "2    3  0.927215\n",
              "3    4  0.927120\n",
              "5    6  0.924652\n",
              "15  16  0.924620\n",
              "8    9  0.924620\n",
              "12  13  0.922152\n",
              "14  15  0.922152\n",
              "4    5  0.919620\n",
              "17  18  0.919589\n",
              "0    1  0.917120\n",
              "1    2  0.917089\n",
              "19  20  0.914589\n",
              "18  19  0.912089\n",
              "16  17  0.912057"
            ]
          },
          "metadata": {
            "tags": []
          },
          "execution_count": 8
        },
        {
          "output_type": "display_data",
          "data": {
            "image/png": "[encoded data removed]",
            "text/plain": [
              "<Figure size 432x288 with 1 Axes>"
            ]
          },
          "metadata": {
            "tags": [],
            "needs_background": "light"
          }
        }
      ]
    },
    {
      "cell_type": "code",
      "metadata": {
        "id": "VfrcRIZLKEqU",
        "outputId": "0ce5543f-6ad3-4d48-e1e9-2eec04b88476",
        "colab": {
          "base_uri": "https://localhost:8080/",
          "height": 1000
        }
      },
      "source": [
        "#Backward Eliminationg: drop one feature at a time that results in highest validation accuracy.\n",
        "#plot shows number of features remaining vs highest accuracy\n",
        "num_fea = 30\n",
        "max_acc_a = []\n",
        "num_fea_a = []\n",
        "for j in range (29):\n",
        "  max_max_acc = []\n",
        "  for i in range(num_fea):\n",
        "    max_acc = []\n",
        "    X1 = df.drop(columns=['target',df.columns[i]])\n",
        "    y1 = dataset.target\n",
        "    X_train, X_test, y_train, y_test = train_test_split(\n",
        "           X1, y1, test_size=0.3, random_state=0)\n",
        "    for k in range(1,30):\n",
        "      acc = []\n",
        "      #k_value = []\n",
        "      knn = neighbors.KNeighborsClassifier(n_neighbors=k)\n",
        "      knn.fit(X_train,y_train)\n",
        "      accuracy = cross_val_score(knn, X_train, y_train, cv=5)\n",
        "      acc.append(accuracy.mean())\n",
        "      #k_value.append(k)\n",
        "      max_acc.append(max(acc))\n",
        "    max_max_acc.append(max(max_acc))\n",
        "  i_drop = max_max_acc.index(max(max_max_acc))\n",
        "  max_acc_a.append(max(max_max_acc))\n",
        "  num_fea_a.append(num_fea)\n",
        "  print('highest accuracy:',max(max_max_acc))\n",
        "  df = df.drop(columns = [df.columns[i_drop]])\n",
        "  print('column name dropped:',df.columns[i_drop])\n",
        "  num_fea += -1\n",
        "plt.xlabel('Features remaining')\n",
        "plt.ylabel('validation accuracy')\n",
        "plt.plot(num_fea_a,max_acc_a)"
      ],
      "execution_count": null,
      "outputs": [
        {
          "output_type": "stream",
          "text": [
            "highest accuracy: 0.9346518987341772\n",
            "column name dropped: mean texture\n",
            "highest accuracy: 0.9346518987341772\n",
            "column name dropped: mean perimeter\n",
            "highest accuracy: 0.9346518987341772\n",
            "column name dropped: mean compactness\n",
            "highest accuracy: 0.9346518987341772\n",
            "column name dropped: mean concavity\n",
            "highest accuracy: 0.9346518987341772\n",
            "column name dropped: mean concave points\n",
            "highest accuracy: 0.9346518987341772\n",
            "column name dropped: mean symmetry\n",
            "highest accuracy: 0.9346518987341772\n",
            "column name dropped: mean fractal dimension\n",
            "highest accuracy: 0.9346518987341772\n",
            "column name dropped: radius error\n",
            "highest accuracy: 0.9346518987341772\n",
            "column name dropped: texture error\n",
            "highest accuracy: 0.9346518987341772\n",
            "column name dropped: perimeter error\n",
            "highest accuracy: 0.9346518987341772\n",
            "column name dropped: area error\n",
            "highest accuracy: 0.9346518987341772\n",
            "column name dropped: compactness error\n",
            "highest accuracy: 0.9346518987341772\n",
            "column name dropped: concavity error\n",
            "highest accuracy: 0.9346518987341772\n",
            "column name dropped: concave points error\n",
            "highest accuracy: 0.9346518987341772\n",
            "column name dropped: symmetry error\n",
            "highest accuracy: 0.9346518987341772\n",
            "column name dropped: fractal dimension error\n",
            "highest accuracy: 0.9346518987341772\n",
            "column name dropped: worst radius\n",
            "highest accuracy: 0.9346518987341772\n",
            "column name dropped: worst texture\n",
            "highest accuracy: 0.9346518987341772\n",
            "column name dropped: worst perimeter\n",
            "highest accuracy: 0.9346518987341772\n",
            "column name dropped: mean area\n",
            "highest accuracy: 0.9346518987341772\n",
            "column name dropped: worst compactness\n",
            "highest accuracy: 0.9346518987341772\n",
            "column name dropped: worst concavity\n",
            "highest accuracy: 0.9346518987341772\n",
            "column name dropped: worst concave points\n",
            "highest accuracy: 0.9346518987341772\n",
            "column name dropped: worst symmetry\n",
            "highest accuracy: 0.9346518987341772\n",
            "column name dropped: worst fractal dimension\n",
            "highest accuracy: 0.9346518987341772\n",
            "column name dropped: target\n",
            "highest accuracy: 0.9321518987341773\n",
            "column name dropped: worst area\n",
            "highest accuracy: 0.9321202531645569\n",
            "column name dropped: worst area\n",
            "highest accuracy: 0.9095569620253166\n",
            "column name dropped: worst area\n"
          ],
          "name": "stdout"
        },
        {
          "output_type": "execute_result",
          "data": {
            "text/plain": [
              "[<matplotlib.lines.Line2D at 0x7f4ffdc25f60>]"
            ]
          },
          "metadata": {
            "tags": []
          },
          "execution_count": 9
        },
        {
          "output_type": "display_data",
          "data": {
            "image/png": "[encoded data removed]",
            "text/plain": [
              "<Figure size 432x288 with 1 Axes>"
            ]
          },
          "metadata": {
            "tags": [],
            "needs_background": "light"
          }
        }
      ]
    },
    {
      "cell_type": "markdown",
      "metadata": {
        "id": "GTXjb1sWmDZL"
      },
      "source": [
        "## Part 3: Standardization [2 Marks]\n",
        "\n",
        "Standardizing the data usually means scaling our data to have a mean of zero and a standard deviation of one. \n",
        "\n",
        "Note: When we standardize a dataset, do we care if the data points are in our training set or test set? Yes! The training set is available for us to train a model - we can use it however we want. The test set, however, represents a subset of data that is not available for us during training. For example, the test set can represent the data that someone who bought our model would use to see how the model performs (which they are not willing to share with us).\n",
        "Therefore, we cannot compute the mean or standard deviation of the whole dataset to standardize it - we can only calculate the mean and standard deviation of the training set. However, when we sell a model to someone, we can say what our scalers (mean and standard deviation of our training set) was. They can scale their data (test set) with our training set's mean and standard deviation. Of course, there is no guarantee that the test set would have a mean of zero and a standard deviation of one, but it should work fine.\n",
        "\n",
        "**To summarize: We fit the StandardScaler only on the training set. We transform both training and test sets with that scaler.**\n",
        "\n",
        "1. Create a KNN classifier with standardized data ([Help](https://scikit-learn.org/stable/modules/preprocessing.html)), and reproduce all steps in Part 2. **[1]**\n",
        "\n",
        "2. Does standardization lead to better model performance? Is performance better or worst? Discuss. **[1]**\n",
        "**96.74 validation accuracy at k=10 **\n",
        "Standardization has resulted in a higher validation accuracy and thus better model performance. The reason for this improvement is because before standardization, the predictor variables have significantly different ranges and there is a high chance that some features dominate the model. After standardization, all features are unit independent and will yield a better result.\n"
      ]
    },
    {
      "cell_type": "code",
      "metadata": {
        "id": "13ciTtBlGgIT",
        "outputId": "0c10404c-ec85-420c-e917-cb182f382d74",
        "colab": {
          "base_uri": "https://localhost:8080/",
          "height": 153
        }
      },
      "source": [
        "print(X_scaled.mean(axis=0))\n",
        "X_scaled.std(axis=0)"
      ],
      "execution_count": null,
      "outputs": [
        {
          "output_type": "stream",
          "text": [
            "[-2.26033597e-15 -1.38917353e-16  2.35657390e-15 -6.37680863e-16\n",
            " -1.38219977e-15  1.27393210e-16  1.33129130e-15  5.70035365e-16\n",
            " -3.81436926e-15 -1.68081629e-15 -2.55239715e-16  2.64445082e-16\n",
            " -4.59989389e-16  2.78950509e-17  2.15684533e-15  5.95140910e-16\n",
            "  4.56641983e-16  3.30416878e-16 -1.38917353e-16  1.17466059e-15\n",
            "  1.02346942e-15 -6.34333457e-16 -1.92699011e-15 -1.60675493e-16]\n"
          ],
          "name": "stdout"
        },
        {
          "output_type": "execute_result",
          "data": {
            "text/plain": [
              "array([1., 1., 1., 1., 1., 1., 1., 1., 1., 1., 1., 1., 1., 1., 1., 1., 1.,\n",
              "       1., 1., 1., 1., 1., 1., 1.])"
            ]
          },
          "metadata": {
            "tags": []
          },
          "execution_count": 35
        }
      ]
    },
    {
      "cell_type": "code",
      "metadata": {
        "id": "xAwAGR6_2bu3",
        "outputId": "dda4e236-1e2b-4521-fa27-23a20db499e2",
        "colab": {
          "base_uri": "https://localhost:8080/",
          "height": 613
        }
      },
      "source": [
        "#standardized data with no feature drop\n",
        "X = dataset.data\n",
        "y = dataset.target\n",
        "X_train, X_test, y_train, y_test = train_test_split(\n",
        "           X, y, test_size=0.3, random_state=0)\n",
        "#X_scaled = preprocessing.scale(X_train)\n",
        "scaler = preprocessing.StandardScaler().fit(X_train)\n",
        "X_scaled = scaler.transform(X_train)\n",
        "X_test_scaled = scaler.transform(X_test)\n",
        "acc =[]\n",
        "k = []\n",
        "for i in range(1,101):\n",
        "  knn = neighbors.KNeighborsClassifier(n_neighbors=i)\n",
        "  knn.fit(X_scaled,y_train)\n",
        "  accuracy = cross_val_score(knn, X_scaled, y_train, cv=5)\n",
        "  acc.append(accuracy.mean())\n",
        "  k.append(i)\n",
        "df2 = pd.DataFrame(list(zip(k, acc)),columns=['K','accuracy'])\n",
        "plt.xlabel('K number')\n",
        "plt.ylabel('validation accuracy')\n",
        "plt.plot(k,acc)\n",
        "sorted_df2 = df2.sort_values(\"accuracy\", ascending=False)\n",
        "sorted_df2.head(10)"
      ],
      "execution_count": null,
      "outputs": [
        {
          "output_type": "execute_result",
          "data": {
            "text/html": [
              "<div>\n",
              "<style scoped>\n",
              "    .dataframe tbody tr th:only-of-type {\n",
              "        vertical-align: middle;\n",
              "    }\n",
              "\n",
              "    .dataframe tbody tr th {\n",
              "        vertical-align: top;\n",
              "    }\n",
              "\n",
              "    .dataframe thead th {\n",
              "        text-align: right;\n",
              "    }\n",
              "</style>\n",
              "<table border=\"1\" class=\"dataframe\">\n",
              "  <thead>\n",
              "    <tr style=\"text-align: right;\">\n",
              "      <th></th>\n",
              "      <th>K</th>\n",
              "      <th>accuracy</th>\n",
              "    </tr>\n",
              "  </thead>\n",
              "  <tbody>\n",
              "    <tr>\n",
              "      <th>9</th>\n",
              "      <td>10</td>\n",
              "      <td>0.967437</td>\n",
              "    </tr>\n",
              "    <tr>\n",
              "      <th>6</th>\n",
              "      <td>7</td>\n",
              "      <td>0.964937</td>\n",
              "    </tr>\n",
              "    <tr>\n",
              "      <th>7</th>\n",
              "      <td>8</td>\n",
              "      <td>0.964937</td>\n",
              "    </tr>\n",
              "    <tr>\n",
              "      <th>10</th>\n",
              "      <td>11</td>\n",
              "      <td>0.964905</td>\n",
              "    </tr>\n",
              "    <tr>\n",
              "      <th>11</th>\n",
              "      <td>12</td>\n",
              "      <td>0.962405</td>\n",
              "    </tr>\n",
              "    <tr>\n",
              "      <th>13</th>\n",
              "      <td>14</td>\n",
              "      <td>0.962405</td>\n",
              "    </tr>\n",
              "    <tr>\n",
              "      <th>2</th>\n",
              "      <td>3</td>\n",
              "      <td>0.962373</td>\n",
              "    </tr>\n",
              "    <tr>\n",
              "      <th>3</th>\n",
              "      <td>4</td>\n",
              "      <td>0.962373</td>\n",
              "    </tr>\n",
              "    <tr>\n",
              "      <th>12</th>\n",
              "      <td>13</td>\n",
              "      <td>0.959905</td>\n",
              "    </tr>\n",
              "    <tr>\n",
              "      <th>8</th>\n",
              "      <td>9</td>\n",
              "      <td>0.959842</td>\n",
              "    </tr>\n",
              "  </tbody>\n",
              "</table>\n",
              "</div>"
            ],
            "text/plain": [
              "     K  accuracy\n",
              "9   10  0.967437\n",
              "6    7  0.964937\n",
              "7    8  0.964937\n",
              "10  11  0.964905\n",
              "11  12  0.962405\n",
              "13  14  0.962405\n",
              "2    3  0.962373\n",
              "3    4  0.962373\n",
              "12  13  0.959905\n",
              "8    9  0.959842"
            ]
          },
          "metadata": {
            "tags": []
          },
          "execution_count": 10
        },
        {
          "output_type": "display_data",
          "data": {
            "image/png": "[encoded data removed]",
            "text/plain": [
              "<Figure size 432x288 with 1 Axes>"
            ]
          },
          "metadata": {
            "tags": [],
            "needs_background": "light"
          }
        }
      ]
    },
    {
      "cell_type": "code",
      "metadata": {
        "id": "OEKb-rN-0ri3",
        "outputId": "9f1cee35-3dc8-4450-898d-4e4ca1468abe",
        "colab": {
          "base_uri": "https://localhost:8080/",
          "height": 1000
        }
      },
      "source": [
        "#backward elimination with standardized data\n",
        "df = pd.DataFrame(dataset.data, columns=dataset.feature_names)\n",
        "df['target'] = dataset.target\n",
        "#X_scaled = preprocessing.scale(X_train)\n",
        "num_fea = 30\n",
        "max_acc_a = []\n",
        "num_fea_a = []\n",
        "for j in range (29):\n",
        "  max_max_acc = []\n",
        "  for i in range(num_fea):\n",
        "    max_acc = []\n",
        "    X = df.drop(columns=['target',df.columns[i]])\n",
        "    y = dataset.target\n",
        "    X_train, X_test, y_train, y_test = train_test_split(\n",
        "           X, y, test_size=0.3, random_state=0)\n",
        "    scaler = preprocessing.StandardScaler().fit(X_train)\n",
        "    X_scaled = scaler.transform(X_train)\n",
        "    X_test_scaled = scaler.transform(X_test)\n",
        "    for k in range(1,30):\n",
        "      acc = []\n",
        "      #k_value = []\n",
        "      knn = neighbors.KNeighborsClassifier(n_neighbors=k)\n",
        "      knn.fit(X_scaled,y_train)\n",
        "      accuracy = cross_val_score(knn, X_scaled, y_train, cv=5)\n",
        "      acc.append(accuracy.mean())\n",
        "      #k_value.append(k)\n",
        "      max_acc.append(max(acc))\n",
        "    max_max_acc.append(max(max_acc))\n",
        "  i_drop = max_max_acc.index(max(max_max_acc))\n",
        "  max_acc_a.append(max(max_max_acc))\n",
        "  num_fea_a.append(num_fea)\n",
        "  print('highest accuracy:',max(max_max_acc))\n",
        "  df = df.drop(columns = [df.columns[i_drop]])\n",
        "  print('column name dropped:',df.columns[i_drop])\n",
        "  num_fea += -1\n",
        "plt.xlabel('Features remaining')\n",
        "plt.ylabel('validation accuracy')\n",
        "plt.plot(num_fea_a,max_acc_a)"
      ],
      "execution_count": null,
      "outputs": [
        {
          "output_type": "stream",
          "text": [
            "highest accuracy: 0.9699683544303797\n",
            "column name dropped: mean fractal dimension\n",
            "highest accuracy: 0.9724683544303797\n",
            "column name dropped: area error\n",
            "highest accuracy: 0.9724683544303797\n",
            "column name dropped: concavity error\n",
            "highest accuracy: 0.9724683544303797\n",
            "column name dropped: mean concavity\n",
            "highest accuracy: 0.9724683544303797\n",
            "column name dropped: smoothness error\n",
            "highest accuracy: 0.9724999999999999\n",
            "column name dropped: worst concavity\n",
            "highest accuracy: 0.9724999999999999\n",
            "column name dropped: mean concave points\n",
            "highest accuracy: 0.9724999999999999\n",
            "column name dropped: mean texture\n",
            "highest accuracy: 0.9724999999999999\n",
            "column name dropped: mean smoothness\n",
            "highest accuracy: 0.9725000000000001\n",
            "column name dropped: worst fractal dimension\n",
            "highest accuracy: 0.975\n",
            "column name dropped: mean fractal dimension\n",
            "highest accuracy: 0.975\n",
            "column name dropped: worst texture\n",
            "highest accuracy: 0.975\n",
            "column name dropped: worst concavity\n",
            "highest accuracy: 0.9724683544303797\n",
            "column name dropped: fractal dimension error\n",
            "highest accuracy: 0.975\n",
            "column name dropped: radius error\n",
            "highest accuracy: 0.975\n",
            "column name dropped: concavity error\n",
            "highest accuracy: 0.9799683544303797\n",
            "column name dropped: concavity error\n",
            "highest accuracy: 0.985\n",
            "column name dropped: target\n",
            "highest accuracy: 0.9824999999999999\n",
            "column name dropped: concave points error\n",
            "highest accuracy: 0.9824999999999999\n",
            "column name dropped: fractal dimension error\n",
            "highest accuracy: 0.9824999999999999\n",
            "column name dropped: fractal dimension error\n",
            "highest accuracy: 0.9824999999999999\n",
            "column name dropped: worst texture\n",
            "highest accuracy: 0.9775\n",
            "column name dropped: worst texture\n",
            "highest accuracy: 0.9775\n",
            "column name dropped: worst texture\n",
            "highest accuracy: 0.9699367088607594\n",
            "column name dropped: worst perimeter\n",
            "highest accuracy: 0.967373417721519\n",
            "column name dropped: worst concave points\n",
            "highest accuracy: 0.9724050632911393\n",
            "column name dropped: worst concave points\n",
            "highest accuracy: 0.9522784810126582\n",
            "column name dropped: target\n",
            "highest accuracy: 0.9045253164556962\n",
            "column name dropped: worst perimeter\n"
          ],
          "name": "stdout"
        },
        {
          "output_type": "execute_result",
          "data": {
            "text/plain": [
              "[<matplotlib.lines.Line2D at 0x7f4ffd826cf8>]"
            ]
          },
          "metadata": {
            "tags": []
          },
          "execution_count": 11
        },
        {
          "output_type": "display_data",
          "data": {
            "image/png": "[encoded data removed]",
            "text/plain": [
              "<Figure size 432x288 with 1 Axes>"
            ]
          },
          "metadata": {
            "tags": [],
            "needs_background": "light"
          }
        }
      ]
    },
    {
      "cell_type": "code",
      "metadata": {
        "id": "fXKYfDN8_7P7",
        "outputId": "3eb6c176-139e-4c72-90d3-b3574b85664a",
        "colab": {
          "base_uri": "https://localhost:8080/",
          "height": 345
        }
      },
      "source": [
        "#it is observable that when 18 features are dropped with this algorithm, the validation accuracy achieved the highest at 98.5%.\n",
        "#Therefore, set the loop equal to 18 and look at the df again\n",
        "\n",
        "df = pd.DataFrame(dataset.data, columns=dataset.feature_names)\n",
        "df['target'] = dataset.target\n",
        "#X_scaled = preprocessing.scale(X_train)\n",
        "num_fea = 30\n",
        "max_acc_a = []\n",
        "num_fea_a = []\n",
        "for j in range (18):\n",
        "  max_max_acc = []\n",
        "  for i in range(num_fea):\n",
        "    max_acc = []\n",
        "    X = df.drop(columns=['target',df.columns[i]])\n",
        "    y = dataset.target\n",
        "    X_train, X_test, y_train, y_test = train_test_split(\n",
        "           X, y, test_size=0.3, random_state=0)\n",
        "    scaler = preprocessing.StandardScaler().fit(X_train)\n",
        "    X_scaled = scaler.transform(X_train)\n",
        "    X_test_scaled = scaler.transform(X_test)\n",
        "    for k in range(1,30):\n",
        "      acc = []\n",
        "      #k_value = []\n",
        "      knn = neighbors.KNeighborsClassifier(n_neighbors=k)\n",
        "      knn.fit(X_scaled,y_train)\n",
        "      accuracy = cross_val_score(knn, X_scaled, y_train, cv=5)\n",
        "      acc.append(accuracy.mean())\n",
        "      #k_value.append(k)\n",
        "      max_acc.append(max(acc))\n",
        "    max_max_acc.append(max(max_acc))\n",
        "  i_drop = max_max_acc.index(max(max_max_acc))\n",
        "  max_acc_a.append(max(max_max_acc))\n",
        "  num_fea_a.append(num_fea)\n",
        "  print('highest accuracy:',max(max_max_acc))\n",
        "  df = df.drop(columns = [df.columns[i_drop]])\n",
        "  num_fea += -1"
      ],
      "execution_count": null,
      "outputs": [
        {
          "output_type": "stream",
          "text": [
            "highest accuracy: 0.9699683544303797\n",
            "highest accuracy: 0.9724683544303797\n",
            "highest accuracy: 0.9724683544303797\n",
            "highest accuracy: 0.9724683544303797\n",
            "highest accuracy: 0.9724683544303797\n",
            "highest accuracy: 0.9724999999999999\n",
            "highest accuracy: 0.9724999999999999\n",
            "highest accuracy: 0.9724999999999999\n",
            "highest accuracy: 0.9724999999999999\n",
            "highest accuracy: 0.9725000000000001\n",
            "highest accuracy: 0.975\n",
            "highest accuracy: 0.975\n",
            "highest accuracy: 0.975\n",
            "highest accuracy: 0.9724683544303797\n",
            "highest accuracy: 0.975\n",
            "highest accuracy: 0.975\n",
            "highest accuracy: 0.9799683544303797\n",
            "highest accuracy: 0.985\n"
          ],
          "name": "stdout"
        }
      ]
    },
    {
      "cell_type": "code",
      "metadata": {
        "id": "05jF8ufUEAaV",
        "outputId": "03504354-2c96-4e06-e758-348a8ab75ff2",
        "colab": {
          "base_uri": "https://localhost:8080/",
          "height": 215
        }
      },
      "source": [
        "#inspect the new df\n",
        "df.head()"
      ],
      "execution_count": null,
      "outputs": [
        {
          "output_type": "execute_result",
          "data": {
            "text/html": [
              "<div>\n",
              "<style scoped>\n",
              "    .dataframe tbody tr th:only-of-type {\n",
              "        vertical-align: middle;\n",
              "    }\n",
              "\n",
              "    .dataframe tbody tr th {\n",
              "        vertical-align: top;\n",
              "    }\n",
              "\n",
              "    .dataframe thead th {\n",
              "        text-align: right;\n",
              "    }\n",
              "</style>\n",
              "<table border=\"1\" class=\"dataframe\">\n",
              "  <thead>\n",
              "    <tr style=\"text-align: right;\">\n",
              "      <th></th>\n",
              "      <th>mean texture</th>\n",
              "      <th>mean perimeter</th>\n",
              "      <th>mean smoothness</th>\n",
              "      <th>radius error</th>\n",
              "      <th>concavity error</th>\n",
              "      <th>concave points error</th>\n",
              "      <th>fractal dimension error</th>\n",
              "      <th>worst texture</th>\n",
              "      <th>worst perimeter</th>\n",
              "      <th>worst area</th>\n",
              "      <th>worst concavity</th>\n",
              "      <th>worst concave points</th>\n",
              "      <th>target</th>\n",
              "    </tr>\n",
              "  </thead>\n",
              "  <tbody>\n",
              "    <tr>\n",
              "      <th>0</th>\n",
              "      <td>10.38</td>\n",
              "      <td>122.80</td>\n",
              "      <td>0.11840</td>\n",
              "      <td>1.0950</td>\n",
              "      <td>0.05373</td>\n",
              "      <td>0.01587</td>\n",
              "      <td>0.006193</td>\n",
              "      <td>17.33</td>\n",
              "      <td>184.60</td>\n",
              "      <td>2019.0</td>\n",
              "      <td>0.7119</td>\n",
              "      <td>0.2654</td>\n",
              "      <td>0</td>\n",
              "    </tr>\n",
              "    <tr>\n",
              "      <th>1</th>\n",
              "      <td>17.77</td>\n",
              "      <td>132.90</td>\n",
              "      <td>0.08474</td>\n",
              "      <td>0.5435</td>\n",
              "      <td>0.01860</td>\n",
              "      <td>0.01340</td>\n",
              "      <td>0.003532</td>\n",
              "      <td>23.41</td>\n",
              "      <td>158.80</td>\n",
              "      <td>1956.0</td>\n",
              "      <td>0.2416</td>\n",
              "      <td>0.1860</td>\n",
              "      <td>0</td>\n",
              "    </tr>\n",
              "    <tr>\n",
              "      <th>2</th>\n",
              "      <td>21.25</td>\n",
              "      <td>130.00</td>\n",
              "      <td>0.10960</td>\n",
              "      <td>0.7456</td>\n",
              "      <td>0.03832</td>\n",
              "      <td>0.02058</td>\n",
              "      <td>0.004571</td>\n",
              "      <td>25.53</td>\n",
              "      <td>152.50</td>\n",
              "      <td>1709.0</td>\n",
              "      <td>0.4504</td>\n",
              "      <td>0.2430</td>\n",
              "      <td>0</td>\n",
              "    </tr>\n",
              "    <tr>\n",
              "      <th>3</th>\n",
              "      <td>20.38</td>\n",
              "      <td>77.58</td>\n",
              "      <td>0.14250</td>\n",
              "      <td>0.4956</td>\n",
              "      <td>0.05661</td>\n",
              "      <td>0.01867</td>\n",
              "      <td>0.009208</td>\n",
              "      <td>26.50</td>\n",
              "      <td>98.87</td>\n",
              "      <td>567.7</td>\n",
              "      <td>0.6869</td>\n",
              "      <td>0.2575</td>\n",
              "      <td>0</td>\n",
              "    </tr>\n",
              "    <tr>\n",
              "      <th>4</th>\n",
              "      <td>14.34</td>\n",
              "      <td>135.10</td>\n",
              "      <td>0.10030</td>\n",
              "      <td>0.7572</td>\n",
              "      <td>0.05688</td>\n",
              "      <td>0.01885</td>\n",
              "      <td>0.005115</td>\n",
              "      <td>16.67</td>\n",
              "      <td>152.20</td>\n",
              "      <td>1575.0</td>\n",
              "      <td>0.4000</td>\n",
              "      <td>0.1625</td>\n",
              "      <td>0</td>\n",
              "    </tr>\n",
              "  </tbody>\n",
              "</table>\n",
              "</div>"
            ],
            "text/plain": [
              "   mean texture  mean perimeter  ...  worst concave points  target\n",
              "0         10.38          122.80  ...                0.2654       0\n",
              "1         17.77          132.90  ...                0.1860       0\n",
              "2         21.25          130.00  ...                0.2430       0\n",
              "3         20.38           77.58  ...                0.2575       0\n",
              "4         14.34          135.10  ...                0.1625       0\n",
              "\n",
              "[5 rows x 13 columns]"
            ]
          },
          "metadata": {
            "tags": []
          },
          "execution_count": 15
        }
      ]
    },
    {
      "cell_type": "code",
      "metadata": {
        "id": "2pkWG5W_Lhq3"
      },
      "source": [
        "\n",
        "X = df['mean texture'，\t'mean perimeter'，'mean smoothness'\t，'radius error'，\t'concavity error'\t，'concave points error'，\t'fractal dimension error'，\t'worst texture'\t，'worst perimete'，\t'worst area'，\t'worst concavity'\t，'worst concave points']\n",
        "y = dataset.target\n",
        "X_train, X_test, y_train, y_test = train_test_split(\n",
        "           X, y, test_size=0.3, random_state=0)\n",
        "scaler = preprocessing.StandardScaler().fit(X_train)\n",
        "X_scaled = scaler.transform(X_train)\n",
        "X_test_scaled = scaler.transform(X_test)\n",
        "acc =[]\n",
        "k = []\n",
        "for i in range(1,30):\n",
        "  knn = neighbors.KNeighborsClassifier(n_neighbors=i)\n",
        "  knn.fit(X_scaled,y_train)\n",
        "  accuracy = cross_val_score(knn, X_scaled, y_train, cv=5)\n",
        "  acc.append(accuracy.mean())\n",
        "  k.append(i)\n",
        "df2 = pd.DataFrame(list(zip(k, acc)),columns=['K','accuracy'])\n",
        "plt.xlabel('K number')\n",
        "plt.ylabel('validation accuracy')\n",
        "plt.plot(k,acc)\n",
        "sorted_df2 = df2.sort_values(\"accuracy\", ascending=False)\n",
        "sorted_df2.head(10)"
      ],
      "execution_count": null,
      "outputs": []
    },
    {
      "cell_type": "code",
      "metadata": {
        "id": "0aADiE_wBFEE",
        "outputId": "10b8d277-7946-4139-fd6b-9bca24bdf8a6",
        "colab": {
          "base_uri": "https://localhost:8080/",
          "height": 610
        }
      },
      "source": [
        "#Now, the df has only 12 features with validation accuracy of 98.5%. Let's find out what K the algorithm used to achieve this accuracy\n",
        "#It is found below that highest validation accuracy achieved when K=17\n",
        "X = df.drop(columns=['target'])\n",
        "y = dataset.target\n",
        "X_train, X_test, y_train, y_test = train_test_split(\n",
        "           X, y, test_size=0.3, random_state=0)\n",
        "scaler = preprocessing.StandardScaler().fit(X_train)\n",
        "X_scaled = scaler.transform(X_train)\n",
        "X_test_scaled = scaler.transform(X_test)\n",
        "acc =[]\n",
        "k = []\n",
        "for i in range(1,30):\n",
        "  knn = neighbors.KNeighborsClassifier(n_neighbors=i)\n",
        "  knn.fit(X_scaled,y_train)\n",
        "  accuracy = cross_val_score(knn, X_scaled, y_train, cv=5)\n",
        "  acc.append(accuracy.mean())\n",
        "  k.append(i)\n",
        "df2 = pd.DataFrame(list(zip(k, acc)),columns=['K','accuracy'])\n",
        "plt.xlabel('K number')\n",
        "plt.ylabel('validation accuracy')\n",
        "plt.plot(k,acc)\n",
        "sorted_df2 = df2.sort_values(\"accuracy\", ascending=False)\n",
        "sorted_df2.head(10)"
      ],
      "execution_count": null,
      "outputs": [
        {
          "output_type": "execute_result",
          "data": {
            "text/html": [
              "<div>\n",
              "<style scoped>\n",
              "    .dataframe tbody tr th:only-of-type {\n",
              "        vertical-align: middle;\n",
              "    }\n",
              "\n",
              "    .dataframe tbody tr th {\n",
              "        vertical-align: top;\n",
              "    }\n",
              "\n",
              "    .dataframe thead th {\n",
              "        text-align: right;\n",
              "    }\n",
              "</style>\n",
              "<table border=\"1\" class=\"dataframe\">\n",
              "  <thead>\n",
              "    <tr style=\"text-align: right;\">\n",
              "      <th></th>\n",
              "      <th>K</th>\n",
              "      <th>accuracy</th>\n",
              "    </tr>\n",
              "  </thead>\n",
              "  <tbody>\n",
              "    <tr>\n",
              "      <th>16</th>\n",
              "      <td>17</td>\n",
              "      <td>0.985000</td>\n",
              "    </tr>\n",
              "    <tr>\n",
              "      <th>14</th>\n",
              "      <td>15</td>\n",
              "      <td>0.982500</td>\n",
              "    </tr>\n",
              "    <tr>\n",
              "      <th>8</th>\n",
              "      <td>9</td>\n",
              "      <td>0.982500</td>\n",
              "    </tr>\n",
              "    <tr>\n",
              "      <th>15</th>\n",
              "      <td>16</td>\n",
              "      <td>0.980000</td>\n",
              "    </tr>\n",
              "    <tr>\n",
              "      <th>17</th>\n",
              "      <td>18</td>\n",
              "      <td>0.980000</td>\n",
              "    </tr>\n",
              "    <tr>\n",
              "      <th>11</th>\n",
              "      <td>12</td>\n",
              "      <td>0.980000</td>\n",
              "    </tr>\n",
              "    <tr>\n",
              "      <th>13</th>\n",
              "      <td>14</td>\n",
              "      <td>0.980000</td>\n",
              "    </tr>\n",
              "    <tr>\n",
              "      <th>9</th>\n",
              "      <td>10</td>\n",
              "      <td>0.977468</td>\n",
              "    </tr>\n",
              "    <tr>\n",
              "      <th>10</th>\n",
              "      <td>11</td>\n",
              "      <td>0.977468</td>\n",
              "    </tr>\n",
              "    <tr>\n",
              "      <th>12</th>\n",
              "      <td>13</td>\n",
              "      <td>0.977468</td>\n",
              "    </tr>\n",
              "  </tbody>\n",
              "</table>\n",
              "</div>"
            ],
            "text/plain": [
              "     K  accuracy\n",
              "16  17  0.985000\n",
              "14  15  0.982500\n",
              "8    9  0.982500\n",
              "15  16  0.980000\n",
              "17  18  0.980000\n",
              "11  12  0.980000\n",
              "13  14  0.980000\n",
              "9   10  0.977468\n",
              "10  11  0.977468\n",
              "12  13  0.977468"
            ]
          },
          "metadata": {
            "tags": []
          },
          "execution_count": 16
        },
        {
          "output_type": "display_data",
          "data": {
            "image/png": "[encoded data removed]",
            "text/plain": [
              "<Figure size 432x288 with 1 Axes>"
            ]
          },
          "metadata": {
            "tags": [],
            "needs_background": "light"
          }
        }
      ]
    },
    {
      "cell_type": "markdown",
      "metadata": {
        "id": "k7QjKjHn2TZR"
      },
      "source": [
        "## Part 4: Test Data [1 Mark]\n",
        "\n",
        "Now that you've created several models, pick your best one (highest accuracy) and apply it to the test dataset you had initially set aside. Discuss. **[1]**\n",
        "\n",
        "Test accuracy achieved an accuracy of 95.91% using the KNN model with 18 features dropped and with data standardized (As it gives the best results). K = 17 is selected. it is a little lower than the validation accuracy but it is completely acceptable given that the model has never seen the test set."
      ]
    },
    {
      "cell_type": "code",
      "metadata": {
        "id": "YLWwK0W3mLGs",
        "outputId": "94fcf1c1-374a-47ad-b124-afd76a04f90c",
        "colab": {
          "base_uri": "https://localhost:8080/",
          "height": 35
        }
      },
      "source": [
        "X = df.drop(columns=['target'])\n",
        "y = dataset.target\n",
        "X_train, X_test, y_train, y_test = train_test_split(\n",
        "           X, y, test_size=0.3, random_state=0)\n",
        "scaler = preprocessing.StandardScaler().fit(X_train)\n",
        "X_scaled = scaler.transform(X_train)\n",
        "X_test_scaled = scaler.transform(X_test)\n",
        "knn1 = neighbors.KNeighborsClassifier(n_neighbors=17)\n",
        "knn1.fit(X_scaled,y_train)\n",
        "accuracy = accuracy_score(y_test, knn1.predict(X_test_scaled))\n",
        "print (\"Accuracy: \", accuracy * 100, \"%\")"
      ],
      "execution_count": null,
      "outputs": [
        {
          "output_type": "stream",
          "text": [
            "Accuracy:  95.90643274853801 %\n"
          ],
          "name": "stdout"
        }
      ]
    },
    {
      "cell_type": "markdown",
      "metadata": {
        "id": "881jvX-Ky3Zk"
      },
      "source": [
        "## Part 5: New Dataset [4 Marks]\n",
        "Find an appropriate classification dataset online and train a KNN model to make predictions.\n",
        "\n",
        "*   Introduce your dataset. **[1]**\n",
        "\n",
        "This data sets consists of 3 different types of wines. This dataset is for classification which is suitable for KNN. The dataset has 178 instances and 13 attributes.\n",
        "*   Create a KNN classifier using the tools you've learned. **[2]**\n",
        "*   Present your results. **[1]**\n",
        "\n",
        "We can see from interating through k=1 to k=40 that it is best to use k=6 as it yields the best validation accuracy of 97.2167%. The final test accuracy is 100%\n",
        "This is probably because this dataset is not big enough and since I used 80:20 split ratio because I want more data to be trained to find best K. It might not get 100% if there is more data included in the test set. I don't see the need of backward elimination of features here since the dataset contains not many rows, and validation and test accuracy is already very high.\n",
        "\n",
        "Hint: you can find various datasets here: https://www.kaggle.com/datasets and here: https://scikit-learn.org/stable/datasets/index.html#toy-datasets.\n",
        "\n",
        "To use a dataset in Colab, you can upload it in your Google drive and access it in Colab ([help here](https://medium.com/analytics-vidhya/how-to-fetch-kaggle-datasets-into-google-colab-ea682569851a)), or you can download the dataset on your local machine and upload it directly to Colab using the following script.\n",
        "\n",
        "```\n",
        "from google.colab import files\n",
        "uploaded = files.upload()\n",
        "```\n",
        "\n",
        "When submitting your project on Quercus, please make sure you are also uploading your dataset so we can fully run your notebook."
      ]
    },
    {
      "cell_type": "code",
      "metadata": {
        "id": "wSuPuEqOWWGf",
        "outputId": "0c19ef29-9a3a-47aa-e509-c7a6d1cdef43",
        "colab": {
          "base_uri": "https://localhost:8080/",
          "height": 666
        }
      },
      "source": [
        "### YOUR CODE HERE ###\n",
        "from sklearn.datasets import load_wine\n",
        "data1 = load_wine()\n",
        "data1"
      ],
      "execution_count": null,
      "outputs": [
        {
          "output_type": "execute_result",
          "data": {
            "text/plain": [
              "{'DESCR': '.. _wine_dataset:\\n\\nWine recognition dataset\\n------------------------\\n\\n**Data Set Characteristics:**\\n\\n    :Number of Instances: 178 (50 in each of three classes)\\n    :Number of Attributes: 13 numeric, predictive attributes and the class\\n    :Attribute Information:\\n \\t\\t- Alcohol\\n \\t\\t- Malic acid\\n \\t\\t- Ash\\n\\t\\t- Alcalinity of ash  \\n \\t\\t- Magnesium\\n\\t\\t- Total phenols\\n \\t\\t- Flavanoids\\n \\t\\t- Nonflavanoid phenols\\n \\t\\t- Proanthocyanins\\n\\t\\t- Color intensity\\n \\t\\t- Hue\\n \\t\\t- OD280/OD315 of diluted wines\\n \\t\\t- Proline\\n\\n    - class:\\n            - class_0\\n            - class_1\\n            - class_2\\n\\t\\t\\n    :Summary Statistics:\\n    \\n    ============================= ==== ===== ======= =====\\n                                   Min   Max   Mean     SD\\n    ============================= ==== ===== ======= =====\\n    Alcohol:                      11.0  14.8    13.0   0.8\\n    Malic Acid:                   0.74  5.80    2.34  1.12\\n    Ash:                          1.36  3.23    2.36  0.27\\n    Alcalinity of Ash:            10.6  30.0    19.5   3.3\\n    Magnesium:                    70.0 162.0    99.7  14.3\\n    Total Phenols:                0.98  3.88    2.29  0.63\\n    Flavanoids:                   0.34  5.08    2.03  1.00\\n    Nonflavanoid Phenols:         0.13  0.66    0.36  0.12\\n    Proanthocyanins:              0.41  3.58    1.59  0.57\\n    Colour Intensity:              1.3  13.0     5.1   2.3\\n    Hue:                          0.48  1.71    0.96  0.23\\n    OD280/OD315 of diluted wines: 1.27  4.00    2.61  0.71\\n    Proline:                       278  1680     746   315\\n    ============================= ==== ===== ======= =====\\n\\n    :Missing Attribute Values: None\\n    :Class Distribution: class_0 (59), class_1 (71), class_2 (48)\\n    :Creator: R.A. Fisher\\n    :Donor: Michael Marshall (MARSHALL%PLU@io.arc.nasa.gov)\\n    :Date: July, 1988\\n\\nThis is a copy of UCI ML Wine recognition datasets.\\nhttps://archive.ics.uci.edu/ml/machine-learning-databases/wine/wine.data\\n\\nThe data is the results of a chemical analysis of wines grown in the same\\nregion in Italy by three different cultivators. There are thirteen different\\nmeasurements taken for different constituents found in the three types of\\nwine.\\n\\nOriginal Owners: \\n\\nForina, M. et al, PARVUS - \\nAn Extendible Package for Data Exploration, Classification and Correlation. \\nInstitute of Pharmaceutical and Food Analysis and Technologies,\\nVia Brigata Salerno, 16147 Genoa, Italy.\\n\\nCitation:\\n\\nLichman, M. (2013). UCI Machine Learning Repository\\n[https://archive.ics.uci.edu/ml]. Irvine, CA: University of California,\\nSchool of Information and Computer Science. \\n\\n.. topic:: References\\n\\n  (1) S. Aeberhard, D. Coomans and O. de Vel, \\n  Comparison of Classifiers in High Dimensional Settings, \\n  Tech. Rep. no. 92-02, (1992), Dept. of Computer Science and Dept. of  \\n  Mathematics and Statistics, James Cook University of North Queensland. \\n  (Also submitted to Technometrics). \\n\\n  The data was used with many others for comparing various \\n  classifiers. The classes are separable, though only RDA \\n  has achieved 100% correct classification. \\n  (RDA : 100%, QDA 99.4%, LDA 98.9%, 1NN 96.1% (z-transformed data)) \\n  (All results using the leave-one-out technique) \\n\\n  (2) S. Aeberhard, D. Coomans and O. de Vel, \\n  \"THE CLASSIFICATION PERFORMANCE OF RDA\" \\n  Tech. Rep. no. 92-01, (1992), Dept. of Computer Science and Dept. of \\n  Mathematics and Statistics, James Cook University of North Queensland. \\n  (Also submitted to Journal of Chemometrics).\\n',\n",
              " 'data': array([[1.423e+01, 1.710e+00, 2.430e+00, ..., 1.040e+00, 3.920e+00,\n",
              "         1.065e+03],\n",
              "        [1.320e+01, 1.780e+00, 2.140e+00, ..., 1.050e+00, 3.400e+00,\n",
              "         1.050e+03],\n",
              "        [1.316e+01, 2.360e+00, 2.670e+00, ..., 1.030e+00, 3.170e+00,\n",
              "         1.185e+03],\n",
              "        ...,\n",
              "        [1.327e+01, 4.280e+00, 2.260e+00, ..., 5.900e-01, 1.560e+00,\n",
              "         8.350e+02],\n",
              "        [1.317e+01, 2.590e+00, 2.370e+00, ..., 6.000e-01, 1.620e+00,\n",
              "         8.400e+02],\n",
              "        [1.413e+01, 4.100e+00, 2.740e+00, ..., 6.100e-01, 1.600e+00,\n",
              "         5.600e+02]]),\n",
              " 'feature_names': ['alcohol',\n",
              "  'malic_acid',\n",
              "  'ash',\n",
              "  'alcalinity_of_ash',\n",
              "  'magnesium',\n",
              "  'total_phenols',\n",
              "  'flavanoids',\n",
              "  'nonflavanoid_phenols',\n",
              "  'proanthocyanins',\n",
              "  'color_intensity',\n",
              "  'hue',\n",
              "  'od280/od315_of_diluted_wines',\n",
              "  'proline'],\n",
              " 'target': array([0, 0, 0, 0, 0, 0, 0, 0, 0, 0, 0, 0, 0, 0, 0, 0, 0, 0, 0, 0, 0, 0,\n",
              "        0, 0, 0, 0, 0, 0, 0, 0, 0, 0, 0, 0, 0, 0, 0, 0, 0, 0, 0, 0, 0, 0,\n",
              "        0, 0, 0, 0, 0, 0, 0, 0, 0, 0, 0, 0, 0, 0, 0, 1, 1, 1, 1, 1, 1, 1,\n",
              "        1, 1, 1, 1, 1, 1, 1, 1, 1, 1, 1, 1, 1, 1, 1, 1, 1, 1, 1, 1, 1, 1,\n",
              "        1, 1, 1, 1, 1, 1, 1, 1, 1, 1, 1, 1, 1, 1, 1, 1, 1, 1, 1, 1, 1, 1,\n",
              "        1, 1, 1, 1, 1, 1, 1, 1, 1, 1, 1, 1, 1, 1, 1, 1, 1, 1, 1, 1, 2, 2,\n",
              "        2, 2, 2, 2, 2, 2, 2, 2, 2, 2, 2, 2, 2, 2, 2, 2, 2, 2, 2, 2, 2, 2,\n",
              "        2, 2, 2, 2, 2, 2, 2, 2, 2, 2, 2, 2, 2, 2, 2, 2, 2, 2, 2, 2, 2, 2,\n",
              "        2, 2]),\n",
              " 'target_names': array(['class_0', 'class_1', 'class_2'], dtype='<U7')}"
            ]
          },
          "metadata": {
            "tags": []
          },
          "execution_count": 8
        }
      ]
    },
    {
      "cell_type": "code",
      "metadata": {
        "id": "asek4MVVXqU0",
        "outputId": "49d59d00-afd2-4382-b667-cabf7f00cc9e",
        "colab": {
          "base_uri": "https://localhost:8080/",
          "height": 204
        }
      },
      "source": [
        "df_wine = pd.DataFrame(data1.data, columns=data1.feature_names)\n",
        "df_wine['target'] = data1.target\n",
        "df_wine.head()"
      ],
      "execution_count": null,
      "outputs": [
        {
          "output_type": "execute_result",
          "data": {
            "text/html": [
              "<div>\n",
              "<style scoped>\n",
              "    .dataframe tbody tr th:only-of-type {\n",
              "        vertical-align: middle;\n",
              "    }\n",
              "\n",
              "    .dataframe tbody tr th {\n",
              "        vertical-align: top;\n",
              "    }\n",
              "\n",
              "    .dataframe thead th {\n",
              "        text-align: right;\n",
              "    }\n",
              "</style>\n",
              "<table border=\"1\" class=\"dataframe\">\n",
              "  <thead>\n",
              "    <tr style=\"text-align: right;\">\n",
              "      <th></th>\n",
              "      <th>alcohol</th>\n",
              "      <th>malic_acid</th>\n",
              "      <th>ash</th>\n",
              "      <th>alcalinity_of_ash</th>\n",
              "      <th>magnesium</th>\n",
              "      <th>total_phenols</th>\n",
              "      <th>flavanoids</th>\n",
              "      <th>nonflavanoid_phenols</th>\n",
              "      <th>proanthocyanins</th>\n",
              "      <th>color_intensity</th>\n",
              "      <th>hue</th>\n",
              "      <th>od280/od315_of_diluted_wines</th>\n",
              "      <th>proline</th>\n",
              "      <th>target</th>\n",
              "    </tr>\n",
              "  </thead>\n",
              "  <tbody>\n",
              "    <tr>\n",
              "      <th>0</th>\n",
              "      <td>14.23</td>\n",
              "      <td>1.71</td>\n",
              "      <td>2.43</td>\n",
              "      <td>15.6</td>\n",
              "      <td>127.0</td>\n",
              "      <td>2.80</td>\n",
              "      <td>3.06</td>\n",
              "      <td>0.28</td>\n",
              "      <td>2.29</td>\n",
              "      <td>5.64</td>\n",
              "      <td>1.04</td>\n",
              "      <td>3.92</td>\n",
              "      <td>1065.0</td>\n",
              "      <td>0</td>\n",
              "    </tr>\n",
              "    <tr>\n",
              "      <th>1</th>\n",
              "      <td>13.20</td>\n",
              "      <td>1.78</td>\n",
              "      <td>2.14</td>\n",
              "      <td>11.2</td>\n",
              "      <td>100.0</td>\n",
              "      <td>2.65</td>\n",
              "      <td>2.76</td>\n",
              "      <td>0.26</td>\n",
              "      <td>1.28</td>\n",
              "      <td>4.38</td>\n",
              "      <td>1.05</td>\n",
              "      <td>3.40</td>\n",
              "      <td>1050.0</td>\n",
              "      <td>0</td>\n",
              "    </tr>\n",
              "    <tr>\n",
              "      <th>2</th>\n",
              "      <td>13.16</td>\n",
              "      <td>2.36</td>\n",
              "      <td>2.67</td>\n",
              "      <td>18.6</td>\n",
              "      <td>101.0</td>\n",
              "      <td>2.80</td>\n",
              "      <td>3.24</td>\n",
              "      <td>0.30</td>\n",
              "      <td>2.81</td>\n",
              "      <td>5.68</td>\n",
              "      <td>1.03</td>\n",
              "      <td>3.17</td>\n",
              "      <td>1185.0</td>\n",
              "      <td>0</td>\n",
              "    </tr>\n",
              "    <tr>\n",
              "      <th>3</th>\n",
              "      <td>14.37</td>\n",
              "      <td>1.95</td>\n",
              "      <td>2.50</td>\n",
              "      <td>16.8</td>\n",
              "      <td>113.0</td>\n",
              "      <td>3.85</td>\n",
              "      <td>3.49</td>\n",
              "      <td>0.24</td>\n",
              "      <td>2.18</td>\n",
              "      <td>7.80</td>\n",
              "      <td>0.86</td>\n",
              "      <td>3.45</td>\n",
              "      <td>1480.0</td>\n",
              "      <td>0</td>\n",
              "    </tr>\n",
              "    <tr>\n",
              "      <th>4</th>\n",
              "      <td>13.24</td>\n",
              "      <td>2.59</td>\n",
              "      <td>2.87</td>\n",
              "      <td>21.0</td>\n",
              "      <td>118.0</td>\n",
              "      <td>2.80</td>\n",
              "      <td>2.69</td>\n",
              "      <td>0.39</td>\n",
              "      <td>1.82</td>\n",
              "      <td>4.32</td>\n",
              "      <td>1.04</td>\n",
              "      <td>2.93</td>\n",
              "      <td>735.0</td>\n",
              "      <td>0</td>\n",
              "    </tr>\n",
              "  </tbody>\n",
              "</table>\n",
              "</div>"
            ],
            "text/plain": [
              "   alcohol  malic_acid   ash  ...  od280/od315_of_diluted_wines  proline  target\n",
              "0    14.23        1.71  2.43  ...                          3.92   1065.0       0\n",
              "1    13.20        1.78  2.14  ...                          3.40   1050.0       0\n",
              "2    13.16        2.36  2.67  ...                          3.17   1185.0       0\n",
              "3    14.37        1.95  2.50  ...                          3.45   1480.0       0\n",
              "4    13.24        2.59  2.87  ...                          2.93    735.0       0\n",
              "\n",
              "[5 rows x 14 columns]"
            ]
          },
          "metadata": {
            "tags": []
          },
          "execution_count": 9
        }
      ]
    },
    {
      "cell_type": "code",
      "metadata": {
        "id": "61NtlYMjYvBW",
        "outputId": "0528a531-b19e-4074-c92a-7d14eeab3aae",
        "colab": {
          "base_uri": "https://localhost:8080/",
          "height": 469
        }
      },
      "source": [
        "X = data1.data\n",
        "y = data1.target\n",
        "X_train, X_test, y_train, y_test = train_test_split(\n",
        "           X, y, test_size=0.2, random_state=0)\n",
        "scaler = preprocessing.StandardScaler().fit(X_train)\n",
        "X_scaled = scaler.transform(X_train)\n",
        "X_test_scaled = scaler.transform(X_test)\n",
        "acc =[]\n",
        "k = []\n",
        "for i in range(1,40):\n",
        "  knn = neighbors.KNeighborsClassifier(n_neighbors=i)\n",
        "  knn.fit(X_scaled,y_train)\n",
        "  accuracy = cross_val_score(knn, X_scaled, y_train, cv=5)\n",
        "  acc.append(accuracy.mean())\n",
        "  k.append(i)\n",
        "df2 = pd.DataFrame(list(zip(k, acc)),columns=['K','accuracy'])\n",
        "plt.plot(k,acc)\n",
        "sorted_df2 = df2.sort_values(\"accuracy\", ascending=False)\n",
        "print(sorted_df2.head(10))\n",
        "\n",
        "knn2 = neighbors.KNeighborsClassifier(n_neighbors=6)\n",
        "knn2.fit(X_scaled,y_train)\n",
        "accuracy = accuracy_score(y_test, knn2.predict(X_test_scaled))\n",
        "print (\"Test Accuracy: \", accuracy * 100, \"%\")"
      ],
      "execution_count": null,
      "outputs": [
        {
          "output_type": "stream",
          "text": [
            "     K  accuracy\n",
            "5    6  0.972167\n",
            "36  37  0.965517\n",
            "22  23  0.965271\n",
            "4    5  0.965271\n",
            "32  33  0.965271\n",
            "28  29  0.965271\n",
            "26  27  0.965271\n",
            "7    8  0.965025\n",
            "0    1  0.958374\n",
            "37  38  0.958374\n",
            "Test Accuracy:  100.0 %\n"
          ],
          "name": "stdout"
        },
        {
          "output_type": "display_data",
          "data": {
            "image/png": "[encoded data removed]",
            "text/plain": [
              "<Figure size 432x288 with 1 Axes>"
            ]
          },
          "metadata": {
            "tags": [],
            "needs_background": "light"
          }
        }
      ]
    }
  ]
}